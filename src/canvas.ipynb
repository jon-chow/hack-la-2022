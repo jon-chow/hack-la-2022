{
 "cells": [
  {
   "cell_type": "markdown",
   "metadata": {},
   "source": [
    "# **UBC Hackathon Learning Analytics 2022**"
   ]
  },
  {
   "cell_type": "code",
   "execution_count": 18,
   "metadata": {
    "dotnet_interactive": {
     "language": "csharp"
    }
   },
   "outputs": [],
   "source": [
    "# Import libraries\n",
    "import matplotlib.pyplot as plt\n",
    "import numpy as np\n",
    "import pandas as pd\n",
    "\n",
    "from IPython.display import display\n",
    "from IPython.core.interactiveshell import InteractiveShell\n",
    "InteractiveShell.ast_node_interactivity = \"all\""
   ]
  },
  {
   "cell_type": "code",
   "execution_count": 19,
   "metadata": {
    "dotnet_interactive": {
     "language": "csharp"
    }
   },
   "outputs": [],
   "source": [
    "# Read data\n",
    "nav_events_data = pd.read_csv('../data/navigation_events.csv')\n",
    "\n",
    "discussions_data = pd.read_csv('../data/additional/discussions.csv')\n",
    "gradebook_data = pd.read_csv('../data/additional/gradebook.csv')"
   ]
  },
  {
   "cell_type": "markdown",
   "metadata": {},
   "source": [
    "### **Begin Boogaloo Code:**"
   ]
  },
  {
   "cell_type": "markdown",
   "metadata": {},
   "source": [
    "##### *Clean up discussions data*"
   ]
  },
  {
   "cell_type": "code",
   "execution_count": 20,
   "metadata": {
    "dotnet_interactive": {
     "language": "csharp"
    }
   },
   "outputs": [
    {
     "data": {
      "text/html": [
       "<div>\n",
       "<style scoped>\n",
       "    .dataframe tbody tr th:only-of-type {\n",
       "        vertical-align: middle;\n",
       "    }\n",
       "\n",
       "    .dataframe tbody tr th {\n",
       "        vertical-align: top;\n",
       "    }\n",
       "\n",
       "    .dataframe thead th {\n",
       "        text-align: right;\n",
       "    }\n",
       "</style>\n",
       "<table border=\"1\" class=\"dataframe\">\n",
       "  <thead>\n",
       "    <tr style=\"text-align: right;\">\n",
       "      <th></th>\n",
       "      <th>actor_id</th>\n",
       "      <th>membership_role</th>\n",
       "      <th>post_message_length</th>\n",
       "      <th>count_of_likes</th>\n",
       "    </tr>\n",
       "  </thead>\n",
       "  <tbody>\n",
       "    <tr>\n",
       "      <th>2</th>\n",
       "      <td>LEARNER_3</td>\n",
       "      <td>[\"Learner\"]</td>\n",
       "      <td>564</td>\n",
       "      <td>0</td>\n",
       "    </tr>\n",
       "    <tr>\n",
       "      <th>3</th>\n",
       "      <td>LEARNER_11</td>\n",
       "      <td>[\"Learner\"]</td>\n",
       "      <td>174</td>\n",
       "      <td>0</td>\n",
       "    </tr>\n",
       "    <tr>\n",
       "      <th>4</th>\n",
       "      <td>LEARNER_3</td>\n",
       "      <td>[\"Learner\"]</td>\n",
       "      <td>226</td>\n",
       "      <td>0</td>\n",
       "    </tr>\n",
       "    <tr>\n",
       "      <th>6</th>\n",
       "      <td>LEARNER_10</td>\n",
       "      <td>[\"Learner\"]</td>\n",
       "      <td>408</td>\n",
       "      <td>0</td>\n",
       "    </tr>\n",
       "    <tr>\n",
       "      <th>7</th>\n",
       "      <td>LEARNER_37</td>\n",
       "      <td>[\"Learner\"]</td>\n",
       "      <td>1409</td>\n",
       "      <td>0</td>\n",
       "    </tr>\n",
       "    <tr>\n",
       "      <th>...</th>\n",
       "      <td>...</td>\n",
       "      <td>...</td>\n",
       "      <td>...</td>\n",
       "      <td>...</td>\n",
       "    </tr>\n",
       "    <tr>\n",
       "      <th>1604</th>\n",
       "      <td>LEARNER_13</td>\n",
       "      <td>[\"Learner\"]</td>\n",
       "      <td>595</td>\n",
       "      <td>0</td>\n",
       "    </tr>\n",
       "    <tr>\n",
       "      <th>1605</th>\n",
       "      <td>LEARNER_31</td>\n",
       "      <td>[\"Learner\"]</td>\n",
       "      <td>316</td>\n",
       "      <td>0</td>\n",
       "    </tr>\n",
       "    <tr>\n",
       "      <th>1606</th>\n",
       "      <td>LEARNER_19</td>\n",
       "      <td>[\"Learner\"]</td>\n",
       "      <td>1100</td>\n",
       "      <td>0</td>\n",
       "    </tr>\n",
       "    <tr>\n",
       "      <th>1608</th>\n",
       "      <td>LEARNER_14</td>\n",
       "      <td>[\"Learner\"]</td>\n",
       "      <td>611</td>\n",
       "      <td>0</td>\n",
       "    </tr>\n",
       "    <tr>\n",
       "      <th>1609</th>\n",
       "      <td>LEARNER_2</td>\n",
       "      <td>[\"Learner\"]</td>\n",
       "      <td>237</td>\n",
       "      <td>0</td>\n",
       "    </tr>\n",
       "  </tbody>\n",
       "</table>\n",
       "<p>1357 rows × 4 columns</p>\n",
       "</div>"
      ],
      "text/plain": [
       "        actor_id membership_role  post_message_length  count_of_likes\n",
       "2      LEARNER_3     [\"Learner\"]                  564               0\n",
       "3     LEARNER_11     [\"Learner\"]                  174               0\n",
       "4      LEARNER_3     [\"Learner\"]                  226               0\n",
       "6     LEARNER_10     [\"Learner\"]                  408               0\n",
       "7     LEARNER_37     [\"Learner\"]                 1409               0\n",
       "...          ...             ...                  ...             ...\n",
       "1604  LEARNER_13     [\"Learner\"]                  595               0\n",
       "1605  LEARNER_31     [\"Learner\"]                  316               0\n",
       "1606  LEARNER_19     [\"Learner\"]                 1100               0\n",
       "1608  LEARNER_14     [\"Learner\"]                  611               0\n",
       "1609   LEARNER_2     [\"Learner\"]                  237               0\n",
       "\n",
       "[1357 rows x 4 columns]"
      ]
     },
     "metadata": {},
     "output_type": "display_data"
    }
   ],
   "source": [
    "# discussions_data.dtypes.value_counts()\n",
    "# display(discussions_data.head())\n",
    "\n",
    "# select only the columns we need\n",
    "select_discussion = discussions_data[[\"actor_id\", \"membership_role\", \"post_message_length\", \"count_of_likes\"]]\n",
    "# display(select_discussion)\n",
    "\n",
    "# keep only rows where membership_role is \"[\"Learner\"]\" in the select_discussion dataframe\n",
    "flt_discussion = select_discussion[select_discussion[\"membership_role\"] == '[\"Learner\"]']\n",
    "display(flt_discussion)"
   ]
  },
  {
   "cell_type": "markdown",
   "metadata": {},
   "source": [
    "##### *Clean up gradebook data*"
   ]
  },
  {
   "cell_type": "code",
   "execution_count": 21,
   "metadata": {
    "dotnet_interactive": {
     "language": "csharp"
    }
   },
   "outputs": [
    {
     "data": {
      "text/html": [
       "<div>\n",
       "<style scoped>\n",
       "    .dataframe tbody tr th:only-of-type {\n",
       "        vertical-align: middle;\n",
       "    }\n",
       "\n",
       "    .dataframe tbody tr th {\n",
       "        vertical-align: top;\n",
       "    }\n",
       "\n",
       "    .dataframe thead th {\n",
       "        text-align: right;\n",
       "    }\n",
       "</style>\n",
       "<table border=\"1\" class=\"dataframe\">\n",
       "  <thead>\n",
       "    <tr style=\"text-align: right;\">\n",
       "      <th></th>\n",
       "      <th>Student</th>\n",
       "      <th>Participation &amp; engagement Current Score</th>\n",
       "      <th>Current Score</th>\n",
       "    </tr>\n",
       "  </thead>\n",
       "  <tbody>\n",
       "    <tr>\n",
       "      <th>15</th>\n",
       "      <td>LEARNER_17</td>\n",
       "      <td>40</td>\n",
       "      <td>65.7</td>\n",
       "    </tr>\n",
       "    <tr>\n",
       "      <th>35</th>\n",
       "      <td>LEARNER_18</td>\n",
       "      <td>55</td>\n",
       "      <td>69.7</td>\n",
       "    </tr>\n",
       "    <tr>\n",
       "      <th>12</th>\n",
       "      <td>LEARNER_20</td>\n",
       "      <td>55</td>\n",
       "      <td>69.7</td>\n",
       "    </tr>\n",
       "    <tr>\n",
       "      <th>10</th>\n",
       "      <td>LEARNER_36</td>\n",
       "      <td>60</td>\n",
       "      <td>70.9</td>\n",
       "    </tr>\n",
       "    <tr>\n",
       "      <th>30</th>\n",
       "      <td>LEARNER_33</td>\n",
       "      <td>40</td>\n",
       "      <td>72.1</td>\n",
       "    </tr>\n",
       "    <tr>\n",
       "      <th>31</th>\n",
       "      <td>LEARNER_27</td>\n",
       "      <td>50</td>\n",
       "      <td>73</td>\n",
       "    </tr>\n",
       "    <tr>\n",
       "      <th>8</th>\n",
       "      <td>LEARNER_15</td>\n",
       "      <td>60</td>\n",
       "      <td>76.2</td>\n",
       "    </tr>\n",
       "    <tr>\n",
       "      <th>24</th>\n",
       "      <td>LEARNER_31</td>\n",
       "      <td>70</td>\n",
       "      <td>77.9</td>\n",
       "    </tr>\n",
       "    <tr>\n",
       "      <th>7</th>\n",
       "      <td>LEARNER_30</td>\n",
       "      <td>70</td>\n",
       "      <td>78.3</td>\n",
       "    </tr>\n",
       "    <tr>\n",
       "      <th>3</th>\n",
       "      <td>LEARNER_10</td>\n",
       "      <td>85</td>\n",
       "      <td>78.4</td>\n",
       "    </tr>\n",
       "    <tr>\n",
       "      <th>18</th>\n",
       "      <td>LEARNER_21</td>\n",
       "      <td>65</td>\n",
       "      <td>78.5</td>\n",
       "    </tr>\n",
       "    <tr>\n",
       "      <th>20</th>\n",
       "      <td>LEARNER_35</td>\n",
       "      <td>80</td>\n",
       "      <td>79.1</td>\n",
       "    </tr>\n",
       "    <tr>\n",
       "      <th>23</th>\n",
       "      <td>LEARNER_1</td>\n",
       "      <td>90</td>\n",
       "      <td>80.9</td>\n",
       "    </tr>\n",
       "    <tr>\n",
       "      <th>27</th>\n",
       "      <td>LEARNER_12</td>\n",
       "      <td>80</td>\n",
       "      <td>81.2</td>\n",
       "    </tr>\n",
       "    <tr>\n",
       "      <th>4</th>\n",
       "      <td>LEARNER_34</td>\n",
       "      <td>90</td>\n",
       "      <td>81.3</td>\n",
       "    </tr>\n",
       "    <tr>\n",
       "      <th>5</th>\n",
       "      <td>LEARNER_16</td>\n",
       "      <td>100</td>\n",
       "      <td>82</td>\n",
       "    </tr>\n",
       "    <tr>\n",
       "      <th>14</th>\n",
       "      <td>LEARNER_37</td>\n",
       "      <td>70</td>\n",
       "      <td>82.3</td>\n",
       "    </tr>\n",
       "    <tr>\n",
       "      <th>2</th>\n",
       "      <td>LEARNER_4</td>\n",
       "      <td>100</td>\n",
       "      <td>82.9</td>\n",
       "    </tr>\n",
       "    <tr>\n",
       "      <th>11</th>\n",
       "      <td>LEARNER_8</td>\n",
       "      <td>85</td>\n",
       "      <td>83.6</td>\n",
       "    </tr>\n",
       "    <tr>\n",
       "      <th>21</th>\n",
       "      <td>LEARNER_11</td>\n",
       "      <td>90</td>\n",
       "      <td>84.3</td>\n",
       "    </tr>\n",
       "    <tr>\n",
       "      <th>17</th>\n",
       "      <td>LEARNER_14</td>\n",
       "      <td>60</td>\n",
       "      <td>84.4</td>\n",
       "    </tr>\n",
       "    <tr>\n",
       "      <th>26</th>\n",
       "      <td>LEARNER_2</td>\n",
       "      <td>60</td>\n",
       "      <td>84.6</td>\n",
       "    </tr>\n",
       "    <tr>\n",
       "      <th>9</th>\n",
       "      <td>LEARNER_19</td>\n",
       "      <td>90</td>\n",
       "      <td>85.2</td>\n",
       "    </tr>\n",
       "    <tr>\n",
       "      <th>13</th>\n",
       "      <td>LEARNER_13</td>\n",
       "      <td>80</td>\n",
       "      <td>85.5</td>\n",
       "    </tr>\n",
       "    <tr>\n",
       "      <th>19</th>\n",
       "      <td>LEARNER_29</td>\n",
       "      <td>80</td>\n",
       "      <td>85.7</td>\n",
       "    </tr>\n",
       "    <tr>\n",
       "      <th>22</th>\n",
       "      <td>LEARNER_24</td>\n",
       "      <td>85</td>\n",
       "      <td>86.4</td>\n",
       "    </tr>\n",
       "    <tr>\n",
       "      <th>6</th>\n",
       "      <td>LEARNER_7</td>\n",
       "      <td>100</td>\n",
       "      <td>87.3</td>\n",
       "    </tr>\n",
       "    <tr>\n",
       "      <th>32</th>\n",
       "      <td>LEARNER_25</td>\n",
       "      <td>90</td>\n",
       "      <td>87.3</td>\n",
       "    </tr>\n",
       "    <tr>\n",
       "      <th>33</th>\n",
       "      <td>LEARNER_26</td>\n",
       "      <td>100</td>\n",
       "      <td>87.5</td>\n",
       "    </tr>\n",
       "    <tr>\n",
       "      <th>34</th>\n",
       "      <td>LEARNER_5</td>\n",
       "      <td>100</td>\n",
       "      <td>88</td>\n",
       "    </tr>\n",
       "    <tr>\n",
       "      <th>28</th>\n",
       "      <td>LEARNER_3</td>\n",
       "      <td>90</td>\n",
       "      <td>89</td>\n",
       "    </tr>\n",
       "    <tr>\n",
       "      <th>16</th>\n",
       "      <td>LEARNER_23</td>\n",
       "      <td>100</td>\n",
       "      <td>89.2</td>\n",
       "    </tr>\n",
       "    <tr>\n",
       "      <th>25</th>\n",
       "      <td>LEARNER_6</td>\n",
       "      <td>100</td>\n",
       "      <td>92.2</td>\n",
       "    </tr>\n",
       "  </tbody>\n",
       "</table>\n",
       "</div>"
      ],
      "text/plain": [
       "       Student Participation & engagement Current Score Current Score\n",
       "15  LEARNER_17                                       40          65.7\n",
       "35  LEARNER_18                                       55          69.7\n",
       "12  LEARNER_20                                       55          69.7\n",
       "10  LEARNER_36                                       60          70.9\n",
       "30  LEARNER_33                                       40          72.1\n",
       "31  LEARNER_27                                       50            73\n",
       "8   LEARNER_15                                       60          76.2\n",
       "24  LEARNER_31                                       70          77.9\n",
       "7   LEARNER_30                                       70          78.3\n",
       "3   LEARNER_10                                       85          78.4\n",
       "18  LEARNER_21                                       65          78.5\n",
       "20  LEARNER_35                                       80          79.1\n",
       "23   LEARNER_1                                       90          80.9\n",
       "27  LEARNER_12                                       80          81.2\n",
       "4   LEARNER_34                                       90          81.3\n",
       "5   LEARNER_16                                      100            82\n",
       "14  LEARNER_37                                       70          82.3\n",
       "2    LEARNER_4                                      100          82.9\n",
       "11   LEARNER_8                                       85          83.6\n",
       "21  LEARNER_11                                       90          84.3\n",
       "17  LEARNER_14                                       60          84.4\n",
       "26   LEARNER_2                                       60          84.6\n",
       "9   LEARNER_19                                       90          85.2\n",
       "13  LEARNER_13                                       80          85.5\n",
       "19  LEARNER_29                                       80          85.7\n",
       "22  LEARNER_24                                       85          86.4\n",
       "6    LEARNER_7                                      100          87.3\n",
       "32  LEARNER_25                                       90          87.3\n",
       "33  LEARNER_26                                      100          87.5\n",
       "34   LEARNER_5                                      100            88\n",
       "28   LEARNER_3                                       90            89\n",
       "16  LEARNER_23                                      100          89.2\n",
       "25   LEARNER_6                                      100          92.2"
      ]
     },
     "metadata": {},
     "output_type": "display_data"
    }
   ],
   "source": [
    "# display(gradebook_data.head())\n",
    "\n",
    "# select only the columns we need\n",
    "select_gradebook = gradebook_data[[\"Student\", \"Participation & engagement Current Score\", \"Current Score\"]]\n",
    "\n",
    "# remove NaN values\n",
    "filter_gradebook = select_gradebook.dropna().iloc[1:].sort_values(by=\"Current Score\", ascending=True)\n",
    "                    \n",
    "display(filter_gradebook)"
   ]
  },
  {
   "cell_type": "markdown",
   "metadata": {},
   "source": [
    "### **Plotting The Data:**\n",
    "We plot the data, 'nuff said"
   ]
  },
  {
   "cell_type": "code",
   "execution_count": 22,
   "metadata": {
    "dotnet_interactive": {
     "language": "csharp"
    }
   },
   "outputs": [
    {
     "data": {
      "text/plain": [
       "<matplotlib.collections.PathCollection at 0x1aa715f9240>"
      ]
     },
     "execution_count": 22,
     "metadata": {},
     "output_type": "execute_result"
    },
    {
     "data": {
      "image/png": "[encoded data removed]",
      "text/plain": [
       "<Figure size 640x480 with 1 Axes>"
      ]
     },
     "metadata": {},
     "output_type": "display_data"
    }
   ],
   "source": [
    "# create scatter plot for current score and participation & engagement current score\n",
    "plt.scatter(filter_gradebook[\"Participation & engagement Current Score\"], filter_gradebook[\"Current Score\"])"
   ]
  },
  {
   "cell_type": "code",
   "execution_count": 23,
   "metadata": {
    "dotnet_interactive": {
     "language": "csharp"
    }
   },
   "outputs": [
    {
     "data": {
      "text/plain": [
       "array([[<AxesSubplot: title={'center': '0'}>,\n",
       "        <AxesSubplot: title={'center': '1'}>],\n",
       "       [<AxesSubplot: title={'center': '2'}>,\n",
       "        <AxesSubplot: title={'center': '3'}>],\n",
       "       [<AxesSubplot: title={'center': '4'}>,\n",
       "        <AxesSubplot: title={'center': '7'}>]], dtype=object)"
      ]
     },
     "execution_count": 23,
     "metadata": {},
     "output_type": "execute_result"
    },
    {
     "name": "stdout",
     "output_type": "stream",
     "text": [
      "0.025551023311775993\n"
     ]
    },
    {
     "data": {
      "text/plain": [
       "count_of_likes\n",
       "0    1072.201662\n",
       "1    1098.388186\n",
       "2    1144.600000\n",
       "3     996.833333\n",
       "4    2465.000000\n",
       "7     575.000000\n",
       "Name: post_message_length, dtype: float64"
      ]
     },
     "metadata": {},
     "output_type": "display_data"
    },
    {
     "data": {
      "image/png": "[encoded data removed]",
      "text/plain": [
       "<Figure size 1000x1000 with 6 Axes>"
      ]
     },
     "metadata": {},
     "output_type": "display_data"
    }
   ],
   "source": [
    "# create histogram for post_message_length and count_of_likes\n",
    "discussions_data.hist(column = 'post_message_length', by = 'count_of_likes', figsize = (10, 10), color = 'red', bins = 20)\n",
    "\n",
    "\n",
    "# find correlation between post_message_length and count_of_likes\n",
    "corr = discussions_data['post_message_length'].corr(discussions_data['count_of_likes'])\n",
    "print(corr)\n",
    "\n",
    "avg_message_len = discussions_data.groupby('count_of_likes')['post_message_length'].mean()\n",
    "display(avg_message_len)"
   ]
  },
  {
   "cell_type": "code",
   "execution_count": 14,
   "metadata": {},
   "outputs": [],
   "source": [
    "# "
   ]
  },
  {
   "cell_type": "markdown",
   "metadata": {},
   "source": [
    "## **Conclusion**"
   ]
  },
  {
   "cell_type": "markdown",
   "metadata": {},
   "source": [
    "idk"
   ]
  }
 ],
 "metadata": {
  "kernelspec": {
   "display_name": "Python 3.10.8 64-bit (microsoft store)",
   "language": "python",
   "name": "python3"
  },
  "language_info": {
   "codemirror_mode": {
    "name": "ipython",
    "version": 3
   },
   "file_extension": ".py",
   "mimetype": "text/x-python",
   "name": "python",
   "nbconvert_exporter": "python",
   "pygments_lexer": "ipython3",
   "version": "3.10.8"
  },
  "orig_nbformat": 4,
  "vscode": {
   "interpreter": {
    "hash": "e0acaf148705ed9ed86cc5cad12259d7985e30670e5686e5f55604a9b3b84a55"
   }
  }
 },
 "nbformat": 4,
 "nbformat_minor": 2
}
